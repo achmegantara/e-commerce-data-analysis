{
 "cells": [
  {
   "cell_type": "markdown",
   "metadata": {},
   "source": [
    "1. Display Top 10 Rows of The Dataset\n",
    "2. Check Last 10 Rows of The Dataset\n",
    "3. Check Datatype of Each Column\n",
    "4. Check null values in the dataset\n",
    "5. How many rows and columns are there in our Dataset? \n",
    "6. Highest and Lowest Purchase Prices.\n",
    "7. Average Purchase Price\n",
    "8. How many people have French 'fr' as their Language?\n",
    "9. Job Title Contains Engineer\n",
    "10. Find The Email of the person with the following IP Address: 132.207.160.22\n",
    "11. How many People have Mastercard as their Credit Card Provider and made a purchase above 50?\n",
    "12. Find the email of the person with the following Credit Card Number: 4664825258997302\n",
    "13. How many people purchase during the AM and how many people purchase during PM?\n",
    "14. How many people have a credit card that expires in 2020?\n",
    "15. What are the top 5 most popular email providers (e.g. gmail.com, yahoo.com, etc...) "
   ]
  },
  {
   "cell_type": "code",
   "execution_count": null,
   "metadata": {},
   "outputs": [],
   "source": [
    "import pandas as pd"
   ]
  },
  {
   "cell_type": "code",
   "execution_count": null,
   "metadata": {},
   "outputs": [],
   "source": []
  },
  {
   "cell_type": "code",
   "execution_count": null,
   "metadata": {},
   "outputs": [],
   "source": []
  }
 ],
 "metadata": {
  "interpreter": {
   "hash": "930faeb175402376bcae79abac2a6bb45d6f157ba15f0104d9c9eb01099db421"
  },
  "kernelspec": {
   "display_name": "Python 3.7.7 ('base')",
   "language": "python",
   "name": "python3"
  },
  "language_info": {
   "name": "python",
   "version": "3.7.7"
  },
  "orig_nbformat": 4
 },
 "nbformat": 4,
 "nbformat_minor": 2
}
